{
 "cells": [
  {
   "cell_type": "code",
   "execution_count": 23,
   "metadata": {},
   "outputs": [
    {
     "name": "stdout",
     "output_type": "stream",
     "text": [
      "{'n1': 454, 'n2': 434}\n",
      "True\n",
      "4\n",
      "dict_keys(['hombre', 'edad', 'nombre', 'telefono'])\n",
      "dict_values([False, 23, 'Renzo', '3004213013'])\n",
      "dict_items([('hombre', False), ('edad', 23), ('nombre', 'Renzo'), ('telefono', '3004213013')])\n",
      "hombre False\n",
      "edad 23\n",
      "nombre Renzo\n",
      "telefono 3004213013\n"
     ]
    }
   ],
   "source": [
    "dictionary = {}\n",
    "dictionary = dict()\n",
    "dictionary2 = {\"n1\": 454, \"n2\": 434}\n",
    "print(dictionary2)\n",
    "dictionary3 = dict(hombre = True, edad = 24, nombre = \"Renzo\")\n",
    "print(dictionary3[\"hombre\"])\n",
    "dictionary3[\"telefono\"] = \"3004213013\"\n",
    "dictionary3.update({\"hombre\" : False, \"edad\" : 23})\n",
    "#print(dictionary3.get(\"telefono\", \"Not Found\"))\n",
    "print(len(dictionary3))\n",
    "print(dictionary3.keys())\n",
    "print(dictionary3.values())\n",
    "print(dictionary3.items())\n",
    "\n",
    "for key, value in dictionary3.items():\n",
    "    print(key, value)"
   ]
  },
  {
   "cell_type": "code",
   "execution_count": null,
   "metadata": {},
   "outputs": [],
   "source": [
    "datos_empleado = {\"nombre\": \"Juan\", \"apellido\": \"Castro\", \"id\": \"32778569\", salario_neto: 945000, ventas: 2130000} \n",
    "def pago_mensual(datos_empleado : dict) -> dict:\n",
    "    \n",
    "    "
   ]
  }
 ],
 "metadata": {
  "kernelspec": {
   "display_name": "Python 3",
   "language": "python",
   "name": "python3"
  },
  "language_info": {
   "codemirror_mode": {
    "name": "ipython",
    "version": 3
   },
   "file_extension": ".py",
   "mimetype": "text/x-python",
   "name": "python",
   "nbconvert_exporter": "python",
   "pygments_lexer": "ipython3",
   "version": "3.7.6"
  }
 },
 "nbformat": 4,
 "nbformat_minor": 4
}
