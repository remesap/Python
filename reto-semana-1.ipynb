{
 "cells": [
  {
   "cell_type": "code",
   "execution_count": 5,
   "metadata": {},
   "outputs": [],
   "source": [
    "#Los trajes de talla S necesitan 2m de tela\n",
    "#Los trajes de talla M necesitan 2.5m de tela\n",
    "#Los trajes de talla L necesitan 3m de tela\n",
    "\n",
    "\"\"\"\n",
    "La función debe retornar una cadena de caracteres que le proporcione a la modista el nombre de la \n",
    "empresa y cuántos metros de tela debe comprar.\"\"\"\n",
    "\n",
    "def calcula_metros(empresa: str, num_talla_S: int, num_talla_M: int, num_talla_L:int) -> str:\n",
    "    total_metros = 2*num_talla_S + 2.5*num_talla_M + 3*num_talla_L\n",
    "    \n",
    "    return f\"Para fabricar {num_talla_S} trajes talla S, {num_talla_M} trajes talla M, {num_talla_L} trajes talla L, \\\n",
    "para la empresa {empresa} se necesitan {total_metros} metros de tela\"\n"
   ]
  },
  {
   "cell_type": "code",
   "execution_count": null,
   "metadata": {},
   "outputs": [],
   "source": []
  }
 ],
 "metadata": {
  "kernelspec": {
   "display_name": "Python 3",
   "language": "python",
   "name": "python3"
  },
  "language_info": {
   "codemirror_mode": {
    "name": "ipython",
    "version": 3
   },
   "file_extension": ".py",
   "mimetype": "text/x-python",
   "name": "python",
   "nbconvert_exporter": "python",
   "pygments_lexer": "ipython3",
   "version": "3.7.6"
  }
 },
 "nbformat": 4,
 "nbformat_minor": 4
}
